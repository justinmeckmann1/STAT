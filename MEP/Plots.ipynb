{
 "cells": [
  {
   "cell_type": "markdown",
   "id": "f01da6bb",
   "metadata": {},
   "source": [
    "# Plots"
   ]
  },
  {
   "cell_type": "code",
   "execution_count": null,
   "id": "dbc8bdc2",
   "metadata": {},
   "outputs": [],
   "source": [
    "# dummy \n",
    "df , y, x, x_sm = None, None, None, None \n",
    "x_train, x_test = None, None\n",
    "y_train, y_test = None, None\n",
    "model = None"
   ]
  },
  {
   "cell_type": "markdown",
   "id": "717fd8e0",
   "metadata": {},
   "source": [
    "#### Boxplot mit Auswahl von Predictors"
   ]
  },
  {
   "cell_type": "code",
   "execution_count": null,
   "id": "92cc074b",
   "metadata": {},
   "outputs": [],
   "source": [
    "# Boxplot\n",
    "import matplotlib.pyplot as plt\n",
    "\n",
    "df_no = df.loc[df['student'] == 0, :]\n",
    "df_yes = df.loc[df['student'] == 1, :]\n",
    "\n",
    "# Create Figure and subplots\n",
    "fig = plt.figure(figsize=(6, 5))\n",
    "ax1 = fig.add_subplot(1, 1, 1)\n",
    "ax1.boxplot([df_no['balance'], df_yes['balance']])\n",
    "ax1.set_xlabel('Default')\n",
    "ax1.set_ylabel('Balance')\n",
    "ax1.set_xticklabels(['No','Yes'])\n",
    "\n",
    "# plt.tight_layout()\n",
    "plt.show()"
   ]
  },
  {
   "cell_type": "markdown",
   "id": "2752e47b",
   "metadata": {},
   "source": [
    "#### Heatmap for correlation"
   ]
  },
  {
   "cell_type": "code",
   "execution_count": null,
   "id": "9b1c6dff",
   "metadata": {},
   "outputs": [],
   "source": [
    "import seaborn as sns\n",
    "import matplotlib.pyplot as plt\n",
    "\n",
    "corr = df.drop(['origin', 'mpg01'], axis=1).corr()\n",
    "\n",
    "fig = plt.figure(figsize = (10,8))\n",
    "ax1 = fig.add_subplot(1, 1, 1)\n",
    "\n",
    "sns.heatmap(corr)\n",
    "plt.show()"
   ]
  },
  {
   "cell_type": "markdown",
   "id": "2f387634",
   "metadata": {},
   "source": [
    "#### Pairplot"
   ]
  },
  {
   "cell_type": "code",
   "execution_count": null,
   "id": "1ec625c8",
   "metadata": {},
   "outputs": [],
   "source": [
    "import seaborn as sns\n",
    "\n",
    "fig = sns.pairplot(df.drop(['origin', 'mpg01'], axis=1))\n",
    "plt.show()"
   ]
  },
  {
   "cell_type": "markdown",
   "id": "4648318f",
   "metadata": {},
   "source": [
    "#### Parallel Coordinates Plot"
   ]
  },
  {
   "cell_type": "code",
   "execution_count": null,
   "id": "5e160860",
   "metadata": {},
   "outputs": [],
   "source": [
    "from sklearn.preprocessing import MinMaxScaler\n",
    "import pandas as pd\n",
    "import matplotlib.pyplot as plt\n",
    "\n",
    "scaler = MinMaxScaler() # scale to [0, 1]\n",
    "\n",
    "df[df.columns] = scaler.fit_transform(df[df.columns] )\n",
    "\n",
    "# Plot parallel coordinates:\n",
    "fig = plt.figure(figsize = (14,6))\n",
    "ax = fig.add_subplot(1, 1, 1)\n",
    "pd.plotting.parallel_coordinates(df, 'mpg01',ax=ax, color=('k', 'r'))\n",
    "\n",
    "plt.show()"
   ]
  },
  {
   "cell_type": "markdown",
   "id": "a50a70b9",
   "metadata": {},
   "source": [
    "#### ROC Curve"
   ]
  },
  {
   "cell_type": "code",
   "execution_count": null,
   "id": "19e9bb4d",
   "metadata": {},
   "outputs": [],
   "source": [
    "import numpy as np\n",
    "import pandas as pd\n",
    "import statsmodels.api as sm\n",
    "\n",
    "x_train_sm = sm.add_constant(x_train)\n",
    "x_test_sm = sm.add_constant(x_test)\n",
    "\n",
    "n = 100\n",
    "\n",
    "alpha = np.linspace(0, 1, n)\n",
    "\n",
    "def class_a(alpha, probability):\n",
    "    classification = np.zeros(len(probability), dtype=int)\n",
    "    for i in range(len(probability)):\n",
    "        if probability.iloc[i] > alpha:\n",
    "            classification[i] = 1\n",
    "\n",
    "    return classification\n",
    "\n",
    "# Create defintion returning both recall and fpr:\n",
    "def ROC_data(x, y, model, alpha):\n",
    "    \"\"\" Return Recall and False Posite Rate\n",
    "    for a given x, y, model and threshold alpha \"\"\"\n",
    "    y_pred = class_a(alpha, model.predict(x))\n",
    "\n",
    "    tp = (y_pred[y_pred == y] == 1).sum()\n",
    "    tn = (y_pred[y_pred == y] == 0).sum()\n",
    "    fp = (y_pred[y_pred != y] == 1).sum()\n",
    "    fn = (y_pred[y_pred != y] == 0).sum()\n",
    "    # Recall: tp / (tp + fn)\n",
    "    Recall = tp / (tp + fn)\n",
    "    fpr = fp / (fp + tn)\n",
    "\n",
    "    return fpr, Recall\n",
    "\n",
    "fpr_train, Recall_train = np.zeros(n), np.zeros(n)\n",
    "fpr_test, Recall_test = np.zeros(n), np.zeros(n)\n",
    "\n",
    "for i in range(n):\n",
    "    fpr_train[i], Recall_train[i] = (ROC_data(\n",
    "        x_train_sm, y_train, model, alpha[i]))\n",
    "    fpr_test[i], Recall_test[i] = (ROC_data(\n",
    "        x_test_sm, y_test, model, alpha[i]))\n",
    "\n",
    "\"\"\" Plot ROC curve \"\"\"\n",
    "fig = plt.figure(figsize = (7,6))\n",
    "ax = fig.add_subplot(1, 1, 1)\n",
    "\n",
    "plt.plot(fpr_train, Recall_train, label='train')\n",
    "plt.plot(fpr_test, Recall_test, label='test')\n",
    "plt.plot([0, 1], [0, 1], ':', label='random gues')\n",
    "ax.set_xlabel('False Positive Rate')\n",
    "ax.set_ylabel('True Positive Rate')\n",
    "plt.legend()\n",
    "plt.show()\n",
    "\n",
    "AUC_train, AUC_test = 0, 0\n",
    "for i in range(n-1):\n",
    "    AUC_train += Recall_train[i] * (fpr_train[i] - fpr_train[i + 1])\n",
    "    AUC_test += Recall_test[i] * (fpr_test[i] - fpr_test[i + 1])\n",
    "\n",
    "print(\"AUC train:\\n\", np.round(AUC_train, 4),\n",
    "\"\\nAUC test:\\n\", np.round(AUC_test, 4))"
   ]
  },
  {
   "cell_type": "markdown",
   "id": "9a278d47",
   "metadata": {},
   "source": [
    "#### Plot Hyperplane for Support Vector Classifier"
   ]
  },
  {
   "cell_type": "code",
   "execution_count": null,
   "id": "ec34f699",
   "metadata": {},
   "outputs": [],
   "source": [
    "# plot the hyperplane\n",
    "beta1, beta2 = clf.coef_[0][0], clf.coef_[0][1]\n",
    "beta0 = clf.intercept_[0]\n",
    "\n",
    "x1_hyperplane = np.linspace(1, 4, 2)\n",
    "x2_hyperplane = - beta1 / beta2 * x1_hyperplane - beta0 / beta2\n",
    "\n",
    "fig = plt.figure(figsize=(8, 5))\n",
    "ax = fig.add_subplot(1, 1, 1)\n",
    "\n",
    "ax.plot(x1_hyperplane, x2_hyperplane, '-k')\n",
    "\n",
    "ax.scatter(x1, x2, c=y)\n",
    "ax.set_xlabel('x1')\n",
    "ax.set_ylabel('x2')\n",
    "\n",
    "plt.title(\"Maximal margin Hyperplane\")\n",
    "plt.show()"
   ]
  }
 ],
 "metadata": {
  "kernelspec": {
   "display_name": "FS25_STAT",
   "language": "python",
   "name": "python3"
  },
  "language_info": {
   "codemirror_mode": {
    "name": "ipython",
    "version": 3
   },
   "file_extension": ".py",
   "mimetype": "text/x-python",
   "name": "python",
   "nbconvert_exporter": "python",
   "pygments_lexer": "ipython3",
   "version": "3.9.21"
  }
 },
 "nbformat": 4,
 "nbformat_minor": 5
}
