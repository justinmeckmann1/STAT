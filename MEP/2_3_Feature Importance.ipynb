{
 "cells": [
  {
   "cell_type": "markdown",
   "id": "2eddfb03",
   "metadata": {},
   "source": [
    "# 2 - Decison Trees & Random_Forests"
   ]
  },
  {
   "cell_type": "markdown",
   "id": "ad30e15b",
   "metadata": {},
   "source": [
    "# Ridge Regression"
   ]
  },
  {
   "cell_type": "code",
   "execution_count": null,
   "id": "25d4668a",
   "metadata": {},
   "outputs": [],
   "source": [
    "from sklearn.linear_model import RidgeCV\n",
    "import numpy as np\n",
    "\n",
    "alphas = 10**(np.linspace(-4,2,100))\n",
    "ridge = RidgeCV(alphas=alphas, cv=5).fit(X_train, y_train)\n",
    "print(ridge.alpha_)\n",
    "print(ridge.coef_)\n",
    "\n",
    "\n",
    "# Calculate RSS\n",
    "y_pred = ridge.predict(X_test)\n",
    "print('{:.6E}'.format(sum((y_test - y_pred) ** 2)))\n"
   ]
  },
  {
   "cell_type": "markdown",
   "id": "24ad08d1",
   "metadata": {},
   "source": [
    "# Lasso Regression"
   ]
  },
  {
   "cell_type": "code",
   "execution_count": null,
   "id": "6ee43de7",
   "metadata": {},
   "outputs": [],
   "source": [
    "from sklearn.linear_model import LassoCV\n",
    "import numpy as np\n",
    "\n",
    "alphas = 10**(np.linspace(-4,2,100))\n",
    "lasso = LassoCV(alphas=alphas, cv=5).fit(X_train, y_train)\n",
    "print(lasso.alpha_)\n",
    "print(lasso.coef_)\n",
    "\n",
    "y_pred = lasso.predict(X_test)\n",
    "print('{:.6E}'.format(sum((y_test - y_pred) ** 2)))"
   ]
  },
  {
   "cell_type": "markdown",
   "id": "491ac5d7",
   "metadata": {},
   "source": [
    "## Partial Dependence Plot (PDP)"
   ]
  },
  {
   "cell_type": "code",
   "execution_count": null,
   "id": "2faae087",
   "metadata": {},
   "outputs": [],
   "source": [
    "from sklearn.linear_model import LinearRegression\n",
    "from sklearn.inspection import plot_partial_dependence\n",
    "import matplotlib.pyplot as plt \n",
    "\n",
    "feature_names = ['Accept', 'Enroll', 'Top10perc', 'Top25perc', 'F.Undergrad',\n",
    "    'P.Undergrad', 'Outstate', 'Room.Board', 'Books', 'Personal',\n",
    "    'PhD', 'Terminal', 'S.F.Ratio', 'perc.alumni', 'Expend',\n",
    "    'Grad.Rate', 'Private'\n",
    "    ]\n",
    "\n",
    "lr = LinearRegression().fit(X_train, y_train)\n",
    "# change X to get PDP for test set\n",
    "disp = plot_partial_dependence(lr, X=X_train, features=feature_names)\n",
    "plt.tight_layout()\n",
    "# Adjust the spacing between subplots, so that feature name can be seen\n",
    "plt.subplots_adjust(\n",
    "    left = 0.125,\n",
    "    right = 0.9,\n",
    "    bottom = 0.1,\n",
    "    top = 0.9,\n",
    "    wspace = 0.2,\n",
    "    hspace = 0.8\n",
    "    )\n",
    "plt.show()"
   ]
  },
  {
   "cell_type": "markdown",
   "id": "9c24662c",
   "metadata": {},
   "source": [
    "## Best subset selection \n",
    "systematische durchprobieren aller Modellkombinationen."
   ]
  },
  {
   "cell_type": "code",
   "execution_count": null,
   "id": "667de031",
   "metadata": {},
   "outputs": [],
   "source": [
    "import operator\n",
    "import time\n",
    "import itertools\n",
    "import statsmodels.api as sm\n",
    "import pandas as pd\n",
    "\n",
    "def processSubset(feature_set, X, y):\n",
    "    # Fit model on feature_set and calculate RSS\n",
    "    model = sm.OLS(y,X[list(feature_set)])\n",
    "    regr = model.fit()\n",
    "    rss = regr.ssr\n",
    "    aic = regr.aic\n",
    "    return {'model':regr, 'RSS':rss, 'AIC':aic}\n",
    "\n",
    "def getBest(X, y, k):\n",
    "    tic = time.time()\n",
    "    \n",
    "    results = []\n",
    "    \n",
    "    for combo in itertools.combinations(X.columns, k):\n",
    "        results.append(processSubset(combo, X, y))\n",
    "    \n",
    "    # Wrap everything up in a nice dataframe\n",
    "    models = pd.DataFrame(results)\n",
    "    \n",
    "    # Choose the model with the lowest AIC\n",
    "    best_model = models.loc[models['AIC'].argmin()]\n",
    "    \n",
    "    toc = time.time()\n",
    "    print(\n",
    "        \"Processed\", models.shape[0], \"models on\", k,\n",
    "        \"predictors in\", (toc-tic), \"seconds.\"\n",
    "        )\n",
    "    \n",
    "    # Return the best model, along with some other\n",
    "    # useful information about the model\n",
    "    return best_model\n",
    "\n",
    "models_best = pd.DataFrame(columns=['RSS', 'AIC', 'model'])\n",
    "\n",
    "start = time.time()\n",
    "for i in range(1,18):\n",
    "    models_best.loc[i] = getBest(X_train, y_train, i)\n",
    "\n",
    "end = time.time()\n",
    "print(\"Total elapsed time:\", (end-start), \"seconds.\")\n",
    "print(models_best)\n",
    "\n",
    "\n",
    "best_model_res = models_best.loc[11, 'model']\n",
    "y_pred = best_model_res.predict(X_test[[\n",
    "    'Accept', 'Top10perc', 'Top25perc', 'F.Undergrad', 'Outstate',\n",
    "    'Room.Board', 'PhD', 'Expend', 'Terminal', 'Grad.Rate', 'Private'\n",
    "    ]]\n",
    ")\n",
    "print('{:.6E}'.format(sum((y_test - y_pred) ** 2)))\n"
   ]
  },
  {
   "cell_type": "markdown",
   "id": "53b3ab56",
   "metadata": {},
   "source": []
  }
 ],
 "metadata": {
  "kernelspec": {
   "display_name": "FS25_STAT",
   "language": "python",
   "name": "python3"
  },
  "language_info": {
   "codemirror_mode": {
    "name": "ipython",
    "version": 3
   },
   "file_extension": ".py",
   "mimetype": "text/x-python",
   "name": "python",
   "nbconvert_exporter": "python",
   "pygments_lexer": "ipython3",
   "version": "3.9.21"
  }
 },
 "nbformat": 4,
 "nbformat_minor": 5
}
