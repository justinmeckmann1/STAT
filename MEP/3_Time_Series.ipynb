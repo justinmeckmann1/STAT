{
 "cells": [
  {
   "cell_type": "markdown",
   "id": "56a4640d",
   "metadata": {},
   "source": [
    "# 3 - Times Series"
   ]
  },
  {
   "cell_type": "markdown",
   "id": "f30b603a",
   "metadata": {},
   "source": [
    "## Generate Series"
   ]
  },
  {
   "cell_type": "code",
   "execution_count": null,
   "id": "6f0c5df7",
   "metadata": {},
   "outputs": [],
   "source": [
    "import pandas as pd\n",
    "\n",
    "df = pd.read_csv('data/_________________.csv', sep=';', header=0)\n",
    "\n",
    "df[\"Quarter\"] = pd.to_datetime(df[\"Quarter\"])\n",
    "dtindex = pd.DatetimeIndex(data=df[\"Quarter\"], freq='infer') # create Pandas DateTimeIndex\n",
    "\n",
    "df.set_index(dtindex, inplace=True) # Set as Index\n",
    "df.drop(\"Quarter\", axis=1, inplace=True) # Drop original column\n",
    "df.head()\n",
    "\n",
    "# optionally plot\n",
    "import matplotlib.pyplot as plt\n",
    "df.plot(y=\"_________________\")\n",
    "plt.show()\n"
   ]
  },
  {
   "cell_type": "markdown",
   "id": "cdb0e553",
   "metadata": {},
   "source": [
    "\n",
    "### Calculate Log Returns and Plot\n"
   ]
  },
  {
   "cell_type": "code",
   "execution_count": null,
   "id": "75de9f2a",
   "metadata": {},
   "outputs": [],
   "source": [
    "import numpy as np\n",
    "import matplotlib.pyplot as plt\n",
    "\n",
    "df = df.astype('float')\n",
    "df[\"rel\"] = np.log(df) - np.log(df.shift(1))\n",
    "\n",
    "df.plot(y=\"rel\")"
   ]
  },
  {
   "cell_type": "markdown",
   "id": "3b42afaf",
   "metadata": {},
   "source": [
    "## Calculate Trend"
   ]
  },
  {
   "cell_type": "code",
   "execution_count": null,
   "id": "ffaffc6c",
   "metadata": {},
   "outputs": [],
   "source": [
    "df[\"Trend\"] = df[\"________\"].rolling(window=4, center=True).mean()"
   ]
  },
  {
   "cell_type": "code",
   "execution_count": null,
   "id": "386543b0",
   "metadata": {},
   "outputs": [],
   "source": [
    "# and plot\n",
    "fig = plt.figure(figsize=(10, 5))\n",
    "ax = fig.add_subplot(1, 1, 1)\n",
    "df.plot(y=\"Trend\", ax=ax)\n",
    "ax.set_xlabel(\"time\")\n",
    "ax.set_ylabel(\"Beer Prodiction [Ml]\")\n",
    "ax.grid()"
   ]
  },
  {
   "cell_type": "markdown",
   "id": "2ce960d0",
   "metadata": {},
   "source": [
    "#### Plot nach Quartal  "
   ]
  },
  {
   "cell_type": "code",
   "execution_count": null,
   "id": "f53d5635",
   "metadata": {},
   "outputs": [],
   "source": [
    "import seaborn as sns\n",
    "# Plot using Seaborn\n",
    "fig, ax = plt.subplots(figsize=(8, 5))\n",
    "df['quarter'] = df.index.quarter\n",
    "sns.boxplot(data=df, x='quarter', y=\"________\")\n",
    "plt.show()\n"
   ]
  },
  {
   "cell_type": "markdown",
   "id": "44d16afa",
   "metadata": {},
   "source": [
    "## Seasonal Decomposition"
   ]
  },
  {
   "cell_type": "code",
   "execution_count": null,
   "id": "6d9438bb",
   "metadata": {},
   "outputs": [],
   "source": [
    "from statsmodels.tsa.seasonal import seasonal_decompose\n",
    "decomp = seasonal_decompose(df[\"________\"],\n",
    "                            model = \"additive\", # \"additive\" or \"multiplicative\"\n",
    "                            period=4) ## --> 4 für Quartal\n",
    "# Plot\n",
    "fig = decomp.plot()\n",
    "fig.set_size_inches(12, 6)\n",
    "plt.show()"
   ]
  },
  {
   "cell_type": "markdown",
   "id": "2a63d946",
   "metadata": {},
   "source": [
    "## Seasonal Decomposition with STL"
   ]
  },
  {
   "cell_type": "code",
   "execution_count": null,
   "id": "92c82488",
   "metadata": {},
   "outputs": [],
   "source": [
    "from statsmodels.tsa.seasonal import STL\n",
    "# Decomposition on log-model using STL\n",
    "decomp = STL(df[\"________\"], seasonal=5)\n",
    "decomp = decomp.fit()\n",
    "# Plot\n",
    "fig = decomp.plot()\n",
    "fig.set_size_inches(12, 6)\n",
    "plt.show()"
   ]
  },
  {
   "cell_type": "markdown",
   "id": "0caab080",
   "metadata": {},
   "source": [
    "## BoxCox Transformation"
   ]
  },
  {
   "cell_type": "code",
   "execution_count": null,
   "id": "56cf9b63",
   "metadata": {},
   "outputs": [],
   "source": [
    "# version 1) \n",
    "df_sq = (np.sqrt(df) - 1) * 2"
   ]
  },
  {
   "cell_type": "code",
   "execution_count": null,
   "id": "c93445f4",
   "metadata": {},
   "outputs": [],
   "source": [
    "# Boxcox Definition:\n",
    "def boxcox(x, lambd):\n",
    "    if (lambd == 0):\n",
    "        return np.log(x)\n",
    "    else:\n",
    "        return (x ** lambd - 1) / lambd\n",
    "    \n",
    "\n",
    "# Apply transform\n",
    "df[\"l_025\"] =   boxcox(df[\"kilowatt\"], 0.25)\n",
    "df[\"l_05\"] =    boxcox(df[\"kilowatt\"], 0.5)\n",
    "df[\"l_075\"] =   boxcox(df[\"kilowatt\"], 0.75)\n",
    "# Plots\n",
    "fig, ax = plt.subplots(figsize=(12, 8), nrows=2, ncols=2)\n",
    "df.plot(ax=ax[:], subplots=True)\n",
    "plt.show()\n"
   ]
  },
  {
   "cell_type": "markdown",
   "id": "d429850c",
   "metadata": {},
   "source": [
    "## ACF / PACF Plots"
   ]
  },
  {
   "cell_type": "code",
   "execution_count": null,
   "id": "c7c40c15",
   "metadata": {},
   "outputs": [],
   "source": [
    "import matplotlib.pyplot as plt\n",
    "from statsmodels.graphics.tsaplots import plot_pacf\n",
    "from statsmodels.graphics.tsaplots import plot_acf\n",
    "\n",
    "# Plot\n",
    "fig = plt.figure(figsize=(14, 5))\n",
    "ax1 = fig.add_subplot(1, 2, 1)\n",
    "plot_acf(df, lags=50, ax=ax1)\n",
    "ax2 = fig.add_subplot(1, 2, 2)\n",
    "plot_pacf(df, lags=50, ax=ax2)\n",
    "ax2.plot([9, 9], [-0.76, 1], ':r')\n",
    "\n",
    "plt.show()"
   ]
  },
  {
   "cell_type": "markdown",
   "id": "f1790975",
   "metadata": {},
   "source": [
    "# FIT AR Model\n"
   ]
  },
  {
   "cell_type": "code",
   "execution_count": null,
   "id": "c9936602",
   "metadata": {},
   "outputs": [],
   "source": [
    "from statsmodels.tsa.arima.model import ARIMA\n",
    "order = 4\n",
    "data = df\n",
    "\n",
    "model = ARIMA(data, order=(order, 0, 0))\n",
    "model = model.fit(method=\"yule_walker\")\n",
    "\n",
    "\n",
    "# Plot\n",
    "fig = plt.figure(figsize=(10, 5))\n",
    "ax = fig.add_subplot(1, 1, 1)\n",
    "ax.plot(data, label='true')\n",
    "ax.plot(data[\"SUNACTIVITY\"] - model.resid, label='estimated')\n",
    "plt.legend()\n",
    "plt.show()"
   ]
  },
  {
   "cell_type": "markdown",
   "id": "6647a5e2",
   "metadata": {},
   "source": [
    "# Prediction durch Autoregression"
   ]
  },
  {
   "cell_type": "code",
   "execution_count": null,
   "id": "40491153",
   "metadata": {},
   "outputs": [],
   "source": [
    "# Fit model on first 130 points\n",
    "model = ARIMA(dta_sq[\"1749\": \"1989\"], order=(9, 0, 0)).fit(method=\"yule_walker\")\n",
    "\n",
    "# Predict including confidence interval\n",
    "pred = model.get_prediction(start=\"1989\", end=\"2008\").prediction_results\n",
    "pred_cov = pred._forecasts_error_cov\n",
    "pred = pred._forecasts[0]\n",
    "pred_upper = pred + 1.96 * np.sqrt(pred_cov[0][0])\n",
    "pred_lower = pred - 1.96 * np.sqrt(pred_cov[0][0])\n",
    "\n",
    "# Plot\n",
    "x = dta_sq.index.year\n",
    "fig = plt.figure(figsize=(10, 5))\n",
    "ax = fig.add_subplot(1, 1, 1)\n",
    "ax.plot(dta_sq[\"1949\": \"1989\"], '-k', label='train data')\n",
    "ax.plot(dta_sq[\"1989\": \"2009\"], ':k', label='true data')\n",
    "ax.plot(dta_sq[\"1989\": \"2009\"].index, pred, 'r', label='Prediction')\n",
    "ax.plot(dta_sq[\"1989\": \"2009\"].index, pred_upper, ':b', label='95% conf')\n",
    "ax.plot(dta_sq[\"1989\": \"2009\"].index, pred_lower, ':b')\n",
    "plt.xlabel(\"Time\")\n",
    "plt.ylabel(\"Values\")\n",
    "plt.legend()\n",
    "plt.show()\n"
   ]
  },
  {
   "cell_type": "markdown",
   "id": "a4838fe6",
   "metadata": {},
   "source": [
    "# Prediction durch Moving Average    "
   ]
  },
  {
   "cell_type": "code",
   "execution_count": null,
   "id": "cf18d736",
   "metadata": {},
   "outputs": [],
   "source": [
    "from statsmodels.tsa.arima.model import ARIMA\n",
    "model = ARIMA(data, order=(0, 0, q))  # z. B. q = 2\n",
    "result = model.fit()"
   ]
  }
 ],
 "metadata": {
  "kernelspec": {
   "display_name": "FS25_STAT",
   "language": "python",
   "name": "python3"
  },
  "language_info": {
   "codemirror_mode": {
    "name": "ipython",
    "version": 3
   },
   "file_extension": ".py",
   "mimetype": "text/x-python",
   "name": "python",
   "nbconvert_exporter": "python",
   "pygments_lexer": "ipython3",
   "version": "3.9.21"
  }
 },
 "nbformat": 4,
 "nbformat_minor": 5
}
