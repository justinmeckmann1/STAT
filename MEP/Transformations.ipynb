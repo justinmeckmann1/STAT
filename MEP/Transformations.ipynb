{
 "cells": [
  {
   "cell_type": "code",
   "execution_count": null,
   "id": "f9b17760",
   "metadata": {},
   "outputs": [],
   "source": [
    "import pandas as pd\n",
    "import numpy as np\n",
    "df = pd.read_csv('data.csv')  # Load data"
   ]
  },
  {
   "cell_type": "markdown",
   "id": "60738f13",
   "metadata": {},
   "source": [
    "#### Dummy Variables"
   ]
  },
  {
   "cell_type": "code",
   "execution_count": null,
   "id": "47df9e06",
   "metadata": {},
   "outputs": [],
   "source": [
    "df = pd.get_dummies(df, columns=['var_to_transform']) # replaces the original with dummies"
   ]
  },
  {
   "cell_type": "markdown",
   "id": "5d0d737b",
   "metadata": {},
   "source": [
    "#### Neue Variablen durch Kombination bestehender Variablen "
   ]
  },
  {
   "cell_type": "code",
   "execution_count": null,
   "id": "bfdd8e50",
   "metadata": {},
   "outputs": [],
   "source": [
    "# new variable durch kombinationen von Variablen mit hohem VIF\n",
    "newvar = df['runpulse'] / df['maxpulse'] # neue Variable erstellen \n",
    "newvar = newvar.rename('run/max')\n",
    "x = x.join(newvar) # neue Variable hinzufügen"
   ]
  },
  {
   "cell_type": "markdown",
   "id": "286a15a5",
   "metadata": {},
   "source": [
    "#### Log Transformation"
   ]
  },
  {
   "cell_type": "code",
   "execution_count": null,
   "id": "59e4855c",
   "metadata": {},
   "outputs": [],
   "source": [
    "x[['pat', 'pat/nurs']] = np.log(x[['pat','pat/nurs']])  # Log transformation of 'pat' and 'pat/nurs'\n",
    "x.rename(columns={'pat': 'log(pat)', 'pat/nurs': 'log(pat/nurs)'}, # rename columns\n",
    "          inplace=True)"
   ]
  }
 ],
 "metadata": {
  "kernelspec": {
   "display_name": "FS25_STAT",
   "language": "python",
   "name": "python3"
  },
  "language_info": {
   "codemirror_mode": {
    "name": "ipython",
    "version": 3
   },
   "file_extension": ".py",
   "mimetype": "text/x-python",
   "name": "python",
   "nbconvert_exporter": "python",
   "pygments_lexer": "ipython3",
   "version": "3.9.21"
  }
 },
 "nbformat": 4,
 "nbformat_minor": 5
}
