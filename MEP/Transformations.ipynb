{
 "cells": [
  {
   "cell_type": "code",
   "execution_count": 3,
   "id": "f9b17760",
   "metadata": {},
   "outputs": [],
   "source": [
    "import pandas as pd\n",
    "import numpy as np\n",
    "# df = pd.read_csv('data.csv')  # Load data\n",
    "df = None"
   ]
  },
  {
   "cell_type": "markdown",
   "id": "7b461ae3",
   "metadata": {},
   "source": [
    "## Test & Train Split"
   ]
  },
  {
   "cell_type": "code",
   "execution_count": null,
   "id": "78b46b85",
   "metadata": {},
   "outputs": [],
   "source": [
    "np.random.seed(42)\n",
    "\n",
    "i = df.index\n",
    "# Index of train\n",
    "i_train = np.random.choice(i, replace=False,\n",
    "                           size=800)\n",
    "\n",
    "# Save DataFrames\n",
    "df_train = df.iloc[i_train]"
   ]
  },
  {
   "cell_type": "markdown",
   "id": "60738f13",
   "metadata": {},
   "source": [
    "#### Dummy Variables"
   ]
  },
  {
   "cell_type": "code",
   "execution_count": null,
   "id": "47df9e06",
   "metadata": {},
   "outputs": [],
   "source": [
    "df = pd.get_dummies(df, columns=['var_to_transform'], drop_first=True) # replaces the original with dummies\n",
    "# optional: Zeilen Umbenennen\n",
    "df = df.rename(columns={'vorher': 'nacher'})"
   ]
  },
  {
   "cell_type": "markdown",
   "id": "5d0d737b",
   "metadata": {},
   "source": [
    "#### Neue Variablen durch Kombination bestehender Variablen "
   ]
  },
  {
   "cell_type": "code",
   "execution_count": null,
   "id": "bfdd8e50",
   "metadata": {},
   "outputs": [],
   "source": [
    "# new variable durch kombinationen von Variablen mit hohem VIF\n",
    "newvar = df['runpulse'] / df['maxpulse'] # neue Variable erstellen \n",
    "newvar = newvar.rename('run/max')\n",
    "x = x.join(newvar) # neue Variable hinzufügen"
   ]
  },
  {
   "cell_type": "markdown",
   "id": "286a15a5",
   "metadata": {},
   "source": [
    "#### Log Transformation"
   ]
  },
  {
   "cell_type": "markdown",
   "id": "463f9835",
   "metadata": {},
   "source": []
  },
  {
   "cell_type": "code",
   "execution_count": null,
   "id": "59e4855c",
   "metadata": {},
   "outputs": [],
   "source": [
    "x[['pat']] = np.log(x[['pat']])  # Log transformation of 'pat' \n",
    "x.rename(columns={'pat': 'log(pat)'}, inplace=True) # rename "
   ]
  },
  {
   "cell_type": "markdown",
   "id": "a0585a16",
   "metadata": {},
   "source": [
    "#### New conditional variable"
   ]
  },
  {
   "cell_type": "code",
   "execution_count": null,
   "id": "d0aef2d3",
   "metadata": {},
   "outputs": [],
   "source": [
    "# bsp, 1 falls wert über dem mean, sonst 0\n",
    "mean = df['integer_value'].mean()\n",
    "df['binary_value'] = np.where(df['integer_value'] > mean, 1, 0)"
   ]
  }
 ],
 "metadata": {
  "kernelspec": {
   "display_name": "FS25_STAT",
   "language": "python",
   "name": "python3"
  },
  "language_info": {
   "codemirror_mode": {
    "name": "ipython",
    "version": 3
   },
   "file_extension": ".py",
   "mimetype": "text/x-python",
   "name": "python",
   "nbconvert_exporter": "python",
   "pygments_lexer": "ipython3",
   "version": "3.9.21"
  }
 },
 "nbformat": 4,
 "nbformat_minor": 5
}
